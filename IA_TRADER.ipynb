{
  "nbformat": 4,
  "nbformat_minor": 0,
  "metadata": {
    "colab": {
      "provenance": [],
      "machine_shape": "hm",
      "gpuType": "T4",
      "mount_file_id": "1Ygw_P3gyKvdzRuddZgg4eeZtfOl-CSN7",
      "authorship_tag": "ABX9TyPIErWaT2W90cKfevDrE5dV",
      "include_colab_link": true
    },
    "kernelspec": {
      "name": "python3",
      "display_name": "Python 3"
    },
    "language_info": {
      "name": "python"
    },
    "accelerator": "GPU"
  },
  "cells": [
    {
      "cell_type": "markdown",
      "metadata": {
        "id": "view-in-github",
        "colab_type": "text"
      },
      "source": [
        "<a href=\"https://colab.research.google.com/github/rhaymisonbetini/BRAIN_CNN/blob/main/IA_TRADER.ipynb\" target=\"_parent\"><img src=\"https://colab.research.google.com/assets/colab-badge.svg\" alt=\"Open In Colab\"/></a>"
      ]
    },
    {
      "cell_type": "code",
      "execution_count": null,
      "metadata": {
        "id": "yk8eK2qFbGBN"
      },
      "outputs": [],
      "source": [
        "!pip uninstall -y tensorflow\n",
        "!pip install tensorflow==2.8.0\n",
        "!pip install pandas-datareader\n",
        "!pip install -q yfinance"
      ]
    },
    {
      "cell_type": "code",
      "source": [
        "import os\n",
        "os.environ['TF_CPP_MIN_LOG_LEVEL'] = '3'  # FATAL\n",
        "import math\n",
        "import random\n",
        "import numpy as np\n",
        "import pandas as pd\n",
        "import tensorflow as tf\n",
        "import matplotlib.pyplot as plt\n",
        "import pandas_datareader as data_reader\n",
        "import yfinance as yf\n",
        "from tqdm import tqdm_notebook, tqdm\n",
        "from collections import deque\n",
        "from tensorflow.keras.callbacks import Callback\n",
        "tf.autograph.set_verbosity(0)\n",
        "physical_devices = tf.config.list_physical_devices('GPU')\n",
        "tf.config.set_visible_devices(physical_devices, 'GPU')\n",
        "tf.config.run_functions_eagerly(False)\n",
        "tf.compat.v1.logging.set_verbosity(tf.compat.v1.logging.ERROR)"
      ],
      "metadata": {
        "id": "AALd14h7bTDq"
      },
      "execution_count": 2,
      "outputs": []
    },
    {
      "cell_type": "code",
      "source": [
        "class SilentCallback(Callback):\n",
        "    def on_epoch_end(self, epoch, logs=None):\n",
        "        pass\n",
        "silent_callback = SilentCallback()"
      ],
      "metadata": {
        "id": "6OlMRychrPmM"
      },
      "execution_count": 15,
      "outputs": []
    },
    {
      "cell_type": "code",
      "source": [
        "class Trader():\n",
        "\n",
        "  def __init__(self, state_size, action_space = 3, model_name = \"AITrader\"):\n",
        "    self.state_size = state_size\n",
        "    self.action_space = action_space\n",
        "    self.memory = deque(maxlen = 2000)\n",
        "    self.model_name = model_name\n",
        "\n",
        "    self.gamma = 0.95\n",
        "    self.epsilon = 1.0\n",
        "    self.epsilon_final = 0.01\n",
        "    self.epsilon_decay = 0.995\n",
        "    self.model = self.model_builder()\n",
        "\n",
        "  def model_builder(self):\n",
        "    model = tf.keras.models.Sequential()\n",
        "    model.add(tf.keras.Input(shape=(self.state_size,)))\n",
        "    model.add(tf.keras.layers.Dense(units = 32, activation = \"relu\"))\n",
        "    model.add(tf.keras.layers.Dense(units = 64, activation = \"relu\"))\n",
        "    model.add(tf.keras.layers.Dense(units = 128, activation = \"relu\"))\n",
        "    model.add(tf.keras.layers.Dense(units = self.action_space, activation = \"linear\"))\n",
        "    model.compile(loss = \"mse\", optimizer = tf.keras.optimizers.Adam(lr = 0.001))\n",
        "    return model\n",
        "\n",
        "\n",
        "  def trade(self, state):\n",
        "    if random.random() <= self.epsilon:\n",
        "      return random.randrange(self.action_space)\n",
        "\n",
        "    actions = self.model.predict(state[0])\n",
        "    return np.argmax(actions[0])\n",
        "\n",
        "  def batch_train(self, batch_size):\n",
        "    batch = []\n",
        "    for i in range(len(self.memory) - batch_size + 1, len(self.memory)):\n",
        "      batch.append(self.memory[i])\n",
        "\n",
        "    for state, action, reward, next_state, done in batch:\n",
        "      if not done:\n",
        "        reward = reward + self.gamma * np.amax(self.model.predict(next_state[0]))\n",
        "\n",
        "      target = self.model.predict(state[0])\n",
        "      target[0][action] = reward\n",
        "\n",
        "      self.model.fit(state[0], target, epochs=1, verbose=0, callbacks=[silent_callback])\n",
        "\n",
        "    if self.epsilon > self.epsilon_final:\n",
        "      self.epsilon *= self.epsilon_decay\n"
      ],
      "metadata": {
        "id": "6O_p51mGeEQH"
      },
      "execution_count": 16,
      "outputs": []
    },
    {
      "cell_type": "code",
      "source": [
        "def sigmoid(x):\n",
        "    return 1 / (1 + math.exp(-x))"
      ],
      "metadata": {
        "id": "8Tu2NtSL3wvi"
      },
      "execution_count": 17,
      "outputs": []
    },
    {
      "cell_type": "code",
      "source": [
        "def stocks_price_format(n):\n",
        "    if n < 0:\n",
        "        return \"- $ {0:2f}\".format(abs(n))\n",
        "    else:\n",
        "        return \"$ {0:2f}\".format(abs(n))"
      ],
      "metadata": {
        "id": "xUYeWSfC7f7g"
      },
      "execution_count": 18,
      "outputs": []
    },
    {
      "cell_type": "code",
      "source": [
        "def dataset_loader(stock_name):\n",
        "  dataset = yf.download(stock_name, start='2023-06-02')\n",
        "  start_date = str(dataset.index[0]).split()[0]\n",
        "  end_date = str(dataset.index[-1]).split()[0]\n",
        "  close = dataset['Close']\n",
        "  return close"
      ],
      "metadata": {
        "id": "Z0X3qlPM73Ft"
      },
      "execution_count": 19,
      "outputs": []
    },
    {
      "cell_type": "code",
      "source": [
        "def state_creator(data, timestep, window_size):\n",
        "  starting_id = timestep - window_size + 1\n",
        "  if starting_id >= 0:\n",
        "     windowed_data = np.array(data[starting_id:timestep + 1])\n",
        "  else:\n",
        "    windowed_data = np.array(- starting_id * [data[0]] + list(data[0:timestep + 1]))\n",
        "  state = []\n",
        "  for i in range(window_size - 1):\n",
        "    state.append(sigmoid(windowed_data[i + 1] - windowed_data[i]))\n",
        "  return np.array([state]), windowed_data"
      ],
      "metadata": {
        "id": "WssnMSi_-nq5"
      },
      "execution_count": 20,
      "outputs": []
    },
    {
      "cell_type": "code",
      "source": [
        "stock_name = \"AAPL\"\n",
        "data = dataset_loader(stock_name)"
      ],
      "metadata": {
        "id": "gH-YgTgljpil"
      },
      "execution_count": null,
      "outputs": []
    },
    {
      "cell_type": "code",
      "source": [
        "s, w = state_creator(data, 0, 5)"
      ],
      "metadata": {
        "id": "6R8IeS6nj2Ql"
      },
      "execution_count": 22,
      "outputs": []
    },
    {
      "cell_type": "code",
      "source": [
        "window_size = 10\n",
        "episode_number = 10\n",
        "batch_size = 32\n",
        "data_samples = len(data) - 1"
      ],
      "metadata": {
        "id": "fqcOslrmkJYb"
      },
      "execution_count": 23,
      "outputs": []
    },
    {
      "cell_type": "code",
      "source": [
        "trader = Trader(state_size=window_size)"
      ],
      "metadata": {
        "id": "0XdE-zAMksTt"
      },
      "execution_count": null,
      "outputs": []
    },
    {
      "cell_type": "code",
      "source": [
        "trader.model.summary()"
      ],
      "metadata": {
        "id": "N4zgRZKQlErp"
      },
      "execution_count": null,
      "outputs": []
    },
    {
      "cell_type": "code",
      "source": [
        "for episode in range(1, episode_number + 1):\n",
        "  print(\"Episode: {}/{}\".format(episode, episode_number))\n",
        "  state = state_creator(data, 0, window_size + 1)\n",
        "  total_profit = 0\n",
        "  trader.inventory = []\n",
        "  for t in tqdm(range(data_samples)):\n",
        "    action = trader.trade(state)\n",
        "    next_state = state_creator(data, t + 1, window_size + 1)\n",
        "    reward = 0\n",
        "\n",
        "    if action == 1:\n",
        "      trader.inventory.append(data[t])\n",
        "      print(\"AI Trader bought: \", stocks_price_format(data[t]))\n",
        "    elif action == 2 and len(trader.inventory) > 0:\n",
        "      buy_price = trader.inventory.pop(0)\n",
        "\n",
        "      reward = max(data[t] - buy_price, 0)\n",
        "      total_profit += data[t] - buy_price\n",
        "      print(\"AI Trader sold: \", stocks_price_format(data[t]), \" Profit: \" + stocks_price_format(data[t] - buy_price))\n",
        "\n",
        "    if t == data_samples - 1:\n",
        "      done = True\n",
        "    else:\n",
        "      done = False\n",
        "\n",
        "    trader.memory.append((state, action, reward, next_state, done))\n",
        "\n",
        "    state = next_state\n",
        "\n",
        "    if done:\n",
        "      print(\"########################\")\n",
        "      print(\"Total profit: {}\".format(total_profit))\n",
        "      print(\"########################\")\n",
        "\n",
        "    if len(trader.memory) > batch_size:\n",
        "      trader.batch_train(batch_size)\n",
        "\n",
        "  if episode % 10 == 0:\n",
        "    trader.model.save(\"ai_trader_{}.h5\".format(episode))\n"
      ],
      "metadata": {
        "id": "MUbvyblvlOmK"
      },
      "execution_count": null,
      "outputs": []
    }
  ]
}